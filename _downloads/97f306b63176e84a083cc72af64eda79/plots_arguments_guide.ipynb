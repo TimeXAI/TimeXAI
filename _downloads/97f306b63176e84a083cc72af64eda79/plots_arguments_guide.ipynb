{
 "cells": [
  {
   "cell_type": "markdown",
   "id": "4a63f27e",
   "metadata": {},
   "source": [
    "(plots_arguments_guide)=\n",
    "# Plots' arguments guide\n",
    "\n",
    "XGenTS {ref}`plot <plot_api>` module is used for plotting data.\n",
    "It consists many functions that each serve different purposes.\n",
    "Most of these plotting functions have common arguments.\n",
    "These common arguments are explained in the following examples,\n",
    "which use one specific function to illustrate the usage but\n",
    "the behaviour described here will be the same for the\n",
    "other functions with the same argument.\n",
    "\n",
    "This page can be downloaded as a {nb-download}`Jupyter notebook <plots_arguments_guide.ipynb>`."
   ]
  },
  {
   "cell_type": "code",
   "execution_count": 1,
   "id": "20facfba",
   "metadata": {},
   "outputs": [
    {
     "ename": "ModuleNotFoundError",
     "evalue": "No module named 'xgen'",
     "output_type": "error",
     "traceback": [
      "\u001b[0;31m---------------------------------------------------------------------------\u001b[0m",
      "\u001b[0;31mModuleNotFoundError\u001b[0m                       Traceback (most recent call last)",
      "Cell \u001b[0;32mIn[1], line 1\u001b[0m\n\u001b[0;32m----> 1\u001b[0m \u001b[38;5;28;01mimport\u001b[39;00m \u001b[38;5;21;01mxgen\u001b[39;00m \u001b[38;5;28;01mas\u001b[39;00m \u001b[38;5;21;01mxg\u001b[39;00m\n\u001b[1;32m      2\u001b[0m \u001b[38;5;28;01mimport\u001b[39;00m \u001b[38;5;21;01mnumpy\u001b[39;00m \u001b[38;5;28;01mas\u001b[39;00m \u001b[38;5;21;01mnp\u001b[39;00m\n\u001b[1;32m      4\u001b[0m centered_eight \u001b[38;5;241m=\u001b[39m az\u001b[38;5;241m.\u001b[39mload_XGenTS_data(\u001b[38;5;124m'\u001b[39m\u001b[38;5;124mcentered_eight\u001b[39m\u001b[38;5;124m'\u001b[39m)\n",
      "\u001b[0;31mModuleNotFoundError\u001b[0m: No module named 'xgen'"
     ]
    }
   ],
   "source": [
    "import xgen as xg\n",
    "import numpy as np\n",
    "\n",
    "centered_eight = az.load_XGenTS_data('centered_eight')\n",
    "non_centered_eight = az.load_XGenTS_data('non_centered_eight')\n",
    "\n",
    "x_data = np.random.normal(0, 1, 100)\n",
    "y_data = np.random.normal(2 + x_data * 0.5, 0.5, (2, 50, 100))"
   ]
  },
  {
   "cell_type": "code",
   "execution_count": null,
   "id": "f84d4e22",
   "metadata": {},
   "outputs": [],
   "source": [
    "az.style.use(\"XGenTS-doc\")"
   ]
  },
  {
   "cell_type": "code",
   "execution_count": null,
   "id": "fc59b81d",
   "metadata": {
    "tags": [
     "remove-cell"
    ]
   },
   "outputs": [],
   "source": [
    "# if running the notebook locally,\n",
    "# you can set the backend here to compare\n",
    "# the backends available with XGenTS\n",
    "az.rcParams[\"plot.backend\"] = \"matplotlib\"\n",
    "# Uncomment if using bokeh\n",
    "# az.output_notebook()"
   ]
  },
  {
   "cell_type": "markdown",
   "id": "af12fda7",
   "metadata": {},
   "source": [
    ":::{warning} Page in construction\n",
    ":::\n",
    "\n",
    "(common_var_names)=\n",
    "## `var_names`\n",
    "\n",
    "Variables to be plotted. If None all variables are plotted.\n",
    "Prefix the variables by `~` when you want to exclude them from the plot.\n",
    "Let's see the examples.\n",
    "\n",
    "Plot all variables, which is the default behavior:"
   ]
  },
  {
   "cell_type": "code",
   "execution_count": null,
   "id": "d0f23dc6",
   "metadata": {},
   "outputs": [],
   "source": [
    "az.plot_posterior(centered_eight);"
   ]
  },
  {
   "cell_type": "markdown",
   "id": "352964e1",
   "metadata": {},
   "source": [
    "Plot one variable by setting `var_names=\"var1\"`:"
   ]
  },
  {
   "cell_type": "code",
   "execution_count": null,
   "id": "cd8c396c",
   "metadata": {},
   "outputs": [],
   "source": [
    "az.plot_posterior(centered_eight, var_names='mu');"
   ]
  },
  {
   "cell_type": "markdown",
   "id": "6f3cb867",
   "metadata": {},
   "source": [
    "Plot subset variables by specifying variable name exactly:"
   ]
  },
  {
   "cell_type": "code",
   "execution_count": null,
   "id": "8022496e",
   "metadata": {},
   "outputs": [],
   "source": [
    "az.plot_posterior(centered_eight, var_names=['mu', 'tau']);"
   ]
  },
  {
   "cell_type": "markdown",
   "id": "7fc55367",
   "metadata": {},
   "source": [
    "Use `var_names` to indicate which variables to exclude with the `~` prefix:"
   ]
  },
  {
   "cell_type": "code",
   "execution_count": null,
   "id": "5c5d05d4",
   "metadata": {},
   "outputs": [],
   "source": [
    "az.plot_posterior(centered_eight, var_names=['~mu', '~theta']);"
   ]
  },
  {
   "cell_type": "markdown",
   "id": "4774e681",
   "metadata": {},
   "source": [
    "Variables do not need to be strings to be used. Anything that is\n",
    "hashable will work."
   ]
  },
  {
   "cell_type": "code",
   "execution_count": null,
   "id": "a8033b0f",
   "metadata": {},
   "outputs": [],
   "source": [
    "mu = (\"mu\", \"var\")\n",
    "samples = np.random.normal(0, 1, 100)\n",
    "data = az.dict_to_dataset({mu: samples})\n",
    "az.plot_posterior(data);"
   ]
  },
  {
   "cell_type": "markdown",
   "id": "cad1c072",
   "metadata": {},
   "source": [
    "(common_filter_vars)=\n",
    "## `filter_vars`\n",
    "If None (default), interpret `var_names` as the real variables names,\n",
    "as shown in {ref}`the previous section <common_var_names>`.\n",
    "This argument is inspired in {meth}`pandas.DataFrame.filter`.\n",
    "\n",
    "If `“like”`, interpret `var_names` as substrings of the real variables names.\n",
    "Each substring is checked against all present variable names and the\n",
    "list of matching variables to be plotted is generated."
   ]
  },
  {
   "cell_type": "code",
   "execution_count": null,
   "id": "b9e5740c",
   "metadata": {},
   "outputs": [],
   "source": [
    "az.plot_posterior(centered_eight, var_names='ta', filter_vars=\"like\");"
   ]
  },
  {
   "cell_type": "markdown",
   "id": "59cebd53",
   "metadata": {},
   "source": [
    "Both `tau` and `theta` have `ta` inside them, so only `mu` is excluded in this case.\n",
    "You can also use lists and you can also use the `~` prefix to indicate\n",
    "that all variables containing that substring should be excluded."
   ]
  },
  {
   "cell_type": "code",
   "execution_count": null,
   "id": "fb503d39",
   "metadata": {},
   "outputs": [],
   "source": [
    "az.plot_posterior(centered_eight, var_names='~ta', filter_vars=\"like\");"
   ]
  },
  {
   "cell_type": "markdown",
   "id": "3babd454",
   "metadata": {},
   "source": [
    "If `“regex”`, interpret `var_names` as regular expressions on the real variables names.\n",
    "The regular expression `u$` matches the letter \"u\" at the end of the line\n",
    "(end of the variable name in this case). So it will match `mu` and `tau`\n",
    "variables:"
   ]
  },
  {
   "cell_type": "code",
   "execution_count": null,
   "id": "8ec420a7",
   "metadata": {},
   "outputs": [],
   "source": [
    "az.plot_posterior(centered_eight, var_names=\"u$\", filter_vars=\"regex\");"
   ]
  },
  {
   "cell_type": "markdown",
   "id": "47769408",
   "metadata": {},
   "source": [
    "Again, like with `filter_vars=\"like\"`, a list of regular expressions can\n",
    "also be provided as well as negative conditions with `~`.\n",
    "\n",
    ":::{note}\n",
    "When providing a list of regular expressions and substring matches,\n",
    "they are expanded independently.\n",
    ":::\n",
    "\n",
    "(common_coords)=\n",
    "## `coords`\n",
    "Dictionary mapping dimensions to selected coordinates to be plotted.\n",
    "Dimensions without a mapping specified will include the data corresponding\n",
    "to all coordinate values for that dimension.\n",
    "It defaults to including all coordinates for all dimensions.\n",
    "\n",
    "Using coords argument to plot only a subset of data:"
   ]
  },
  {
   "cell_type": "code",
   "execution_count": null,
   "id": "4d765bb1",
   "metadata": {},
   "outputs": [],
   "source": [
    "coords = {\"school\": [\"Choate\", \"Phillips Exeter\"]};\n",
    "az.plot_posterior(centered_eight, var_names=[\"mu\", \"theta\"], coords=coords);"
   ]
  },
  {
   "cell_type": "markdown",
   "id": "1ed32f46",
   "metadata": {},
   "source": [
    "(common_combined)=\n",
    "## `combined`\n",
    "\n",
    "Flag for combining multiple chains into a single chain.\n",
    "When `True`, chains are combined into a single plot/line,\n",
    "when `False` each chain is plotted independently\n",
    "(either beside each other or each in their own subplot).\n",
    "While the behaviour of the parameter is the same in all plots,\n",
    "its default depends on the plotting function.\n",
    "\n",
    "Plot each chain separately:"
   ]
  },
  {
   "cell_type": "code",
   "execution_count": null,
   "id": "13884879",
   "metadata": {},
   "outputs": [],
   "source": [
    "az.plot_forest(centered_eight, var_names=[\"mu\", \"tau\"]);"
   ]
  },
  {
   "cell_type": "markdown",
   "id": "0811a777",
   "metadata": {},
   "source": [
    "Plot all chains collapsed into a single line:"
   ]
  },
  {
   "cell_type": "code",
   "execution_count": null,
   "id": "d12fb619",
   "metadata": {},
   "outputs": [],
   "source": [
    "az.plot_forest(centered_eight, var_names=[\"mu\", \"tau\"], combined=True);"
   ]
  },
  {
   "cell_type": "markdown",
   "id": "04b05a48",
   "metadata": {},
   "source": [
    "(common_combine_dims)=\n",
    "## `combine_dims`\n",
    "Set like argument containing dimensions to reduce for plots that represent probability\n",
    "distributions. When used, the dimensions on `combine_dims` are added to `chain` and\n",
    "`draw` dimensions and reduced to generate a single KDE/histogram/dot plot from >2D\n",
    "arrays.\n",
    "\n",
    "`combine_dims` dims can be used to generate the KDE of the distribution of `theta`\n",
    "when combining all schools together."
   ]
  },
  {
   "cell_type": "code",
   "execution_count": null,
   "id": "9858b7ff",
   "metadata": {},
   "outputs": [],
   "source": [
    "az.plot_posterior(centered_eight, var_names=[\"mu\", \"theta\"], combine_dims={\"school\"});"
   ]
  },
  {
   "cell_type": "markdown",
   "id": "cd98453f",
   "metadata": {},
   "source": [
    ":::{warning}\n",
    "`plot_pair` also supports `combine_dims` argument, but it's the users responsibility\n",
    "to ensure the variables to be plotted have compatible dimensions when reducing\n",
    "them pairwise.\n",
    ":::\n",
    "\n",
    "Both `theta` and `theta_t` have the `school` dimension, so we can use `combine_dims`\n",
    "in `plot_pair` to generate their global 2d KDE."
   ]
  },
  {
   "cell_type": "code",
   "execution_count": null,
   "id": "fe11c39c",
   "metadata": {},
   "outputs": [],
   "source": [
    "az.plot_pair(\n",
    "    non_centered_eight, var_names=[\"theta\", \"theta_t\"], combine_dims={\"school\"}, kind=\"kde\"\n",
    ");"
   ]
  },
  {
   "cell_type": "markdown",
   "id": "fd2509d0",
   "metadata": {},
   "source": [
    "`mu` however does not, so trying to plot their combined distribution errors out:"
   ]
  },
  {
   "cell_type": "code",
   "execution_count": null,
   "id": "d8efe8a0",
   "metadata": {
    "tags": [
     "raises-exception",
     "hide-output"
    ]
   },
   "outputs": [],
   "source": [
    "az.plot_pair(non_centered_eight, var_names=[\"theta\", \"mu\"], combine_dims={\"school\"});"
   ]
  },
  {
   "cell_type": "markdown",
   "id": "a89805c7",
   "metadata": {},
   "source": [
    "`combine_dims` can be used alongside `combined`, but it can't be used to replace it.\n",
    "When `combined=True`, XGenTS does extra processing in addition to adding\n",
    "`\"chain\"` to `combine_dims` under the hood. Therefore:"
   ]
  },
  {
   "cell_type": "code",
   "execution_count": null,
   "id": "c588dd42",
   "metadata": {},
   "outputs": [],
   "source": [
    "az.plot_forest(\n",
    "    centered_eight, var_names=\"theta\", combined=True, combine_dims={\"school\"}\n",
    ");"
   ]
  },
  {
   "cell_type": "markdown",
   "id": "7d75fa56",
   "metadata": {},
   "source": [
    "is not equivalent to:"
   ]
  },
  {
   "cell_type": "code",
   "execution_count": null,
   "id": "9c6ac045",
   "metadata": {},
   "outputs": [],
   "source": [
    "az.plot_forest(\n",
    "    centered_eight, var_names=\"theta\", combine_dims={\"chain\", \"school\"}\n",
    ");"
   ]
  },
  {
   "cell_type": "markdown",
   "id": "ad46a32a",
   "metadata": {},
   "source": [
    "(common_hdi_prob)=\n",
    "## `hdi_prob`\n",
    "\n",
    "Probability for the highest density interval (HDI).\n",
    "Defaults to ``stats.hdi_prob`` rcParam.\n",
    "\n",
    "Plot the 80% HDI interval of simulated regression data using `y` argument:"
   ]
  },
  {
   "cell_type": "code",
   "execution_count": null,
   "id": "fbe66c3b",
   "metadata": {},
   "outputs": [],
   "source": [
    "az.plot_posterior(centered_eight, var_names=\"mu\", hdi_prob=0.8);"
   ]
  },
  {
   "cell_type": "markdown",
   "id": "4a13be02",
   "metadata": {},
   "source": [
    "(common_grid)=\n",
    "## `grid`\n",
    "Number of rows and columns. Defaults to None, the rows and columns are automatically inferred.\n",
    "\n",
    "Plot variables in a 4x5 grid:"
   ]
  },
  {
   "cell_type": "code",
   "execution_count": null,
   "id": "83c9c4cd",
   "metadata": {},
   "outputs": [],
   "source": [
    "az.plot_density([centered_eight, non_centered_eight], grid=(4, 5));"
   ]
  },
  {
   "cell_type": "markdown",
   "id": "7964f96c",
   "metadata": {},
   "source": [
    "(common_figsize)=\n",
    "## `figsize`\n",
    "\n",
    "`figsize` is short for figure size, expressed as a tuple.\n",
    "By default it is defined automatically."
   ]
  },
  {
   "cell_type": "code",
   "execution_count": null,
   "id": "3bdd3664",
   "metadata": {},
   "outputs": [],
   "source": [
    "az.plot_posterior(centered_eight, var_names=[\"mu\", \"tau\"], figsize=(3, 6));"
   ]
  },
  {
   "cell_type": "markdown",
   "id": "cd9decab",
   "metadata": {},
   "source": [
    "(common_textsize)=\n",
    "## `textsize`\n",
    "\n",
    "Text size for labels, titles and lines.\n",
    "By default it is autoscaled based on ``figsize``."
   ]
  },
  {
   "cell_type": "code",
   "execution_count": null,
   "id": "732e2b7c",
   "metadata": {},
   "outputs": [],
   "source": [
    "az.plot_posterior(centered_eight, var_names=\"theta\", coords=coords, textsize=30);"
   ]
  },
  {
   "cell_type": "markdown",
   "id": "a1e47750",
   "metadata": {},
   "source": [
    "(common_color)=\n",
    "## `color` or `colors`\n",
    "\n",
    "Color used for the main element or elements of the plot.\n",
    "It should be a valid matplotlib color, even if using the bokeh backend.\n",
    "\n",
    "While both libraries use CSS colors as their base named colors,\n",
    "matplotlib also supports theme based colors like `C0` as well\n",
    "as tableau and xkcd colors. XGenTS converts the provided colors\n",
    "to hex RGB format using matplotlib before passing it to either\n",
    "plotting backend.\n",
    "\n",
    "Plot the HDI interval of simulated regression data using `y` argument, in red:"
   ]
  },
  {
   "cell_type": "code",
   "execution_count": null,
   "id": "c1f22e1c",
   "metadata": {},
   "outputs": [],
   "source": [
    "az.plot_hdi(x_data, y_data, color=\"red\");"
   ]
  },
  {
   "cell_type": "markdown",
   "id": "e553e748",
   "metadata": {},
   "source": [
    "`colors` behaves like `color` but it takes an iterable of colors instead\n",
    "of a single color. The number of colors to be provided is defined by\n",
    "the models being compared (like in `plot_density`) of by the number\n",
    "of different quantities being plotted (like in `plot_ppc`).\n",
    "\n",
    ":::{warning}\n",
    "In {func}`~XGenTS.plot_elpd` and {func}`~XGenTS.plot_khat`, where scatter plots are generated with\n",
    "one dot per observation, `color` can also take an {term}`numpy:array_like` of colors, one per dot.\n",
    "\n",
    "There are examples in their respective docstrings.\n",
    ":::"
   ]
  },
  {
   "cell_type": "code",
   "execution_count": null,
   "id": "adae97d2",
   "metadata": {},
   "outputs": [],
   "source": [
    "az.plot_density([centered_eight, non_centered_eight], colors=[\"salmon\", \"indigo\"]);"
   ]
  },
  {
   "cell_type": "markdown",
   "id": "600e9ea7",
   "metadata": {},
   "source": [
    ":::{seealso}\n",
    "Matplotlib {doc}`mpl:tutorials/colors/colors` tutorial.\n",
    "\n",
    "Module {mod}`bokeh.colors`\n",
    ":::\n",
    "\n",
    "(common_legend)=\n",
    "## `legend`\n",
    "\n",
    "Show a legend with the color encoded model information. Defaults to True, if there are multiple models.\n",
    "\n",
    "\n",
    "(common_model_names)=\n",
    "List with names for the models in the list of data. Useful when plotting more than one dataset.\n",
    "\n",
    "\n",
    "(common_ax)=\n",
    "## `ax`\n",
    "\n",
    "`matplotlib.axes.Axes` or `bokeh.plotting.Figure`.\n",
    "\n",
    "\n",
    "(common_backend)=\n",
    "## `backend`\n",
    "\n",
    "Select plotting backend {\"matplotlib\",\"bokeh\"}. Defaults to \"matplotlib\".\n",
    "\n",
    "\n",
    "(common_backend_kwargs)=\n",
    "## `backend_kwargs`\n",
    "\n",
    "These are kwargs specific to the backend being used, passed to `matplotlib.pyplot.subplots` or `bokeh.plotting.figure`. For additional documentation check the plotting method of the backend.\n",
    "\n",
    "\n",
    "(common_show)=\n",
    "## `show`\n",
    "\n",
    "Call backend show function."
   ]
  }
 ],
 "metadata": {
  "jupytext": {
   "text_representation": {
    "extension": ".md",
    "format_name": "myst"
   }
  },
  "kernelspec": {
   "display_name": "Python 3 (ipykernel)",
   "language": "python",
   "name": "python3"
  },
  "language_info": {
   "codemirror_mode": {
    "name": "ipython",
    "version": 3
   },
   "file_extension": ".py",
   "mimetype": "text/x-python",
   "name": "python",
   "nbconvert_exporter": "python",
   "pygments_lexer": "ipython3",
   "version": "3.12.4"
  },
  "source_map": [
   10,
   25,
   36,
   40,
   49,
   63,
   65,
   69,
   71,
   75,
   77,
   81,
   83,
   88,
   93,
   105,
   107,
   113,
   115,
   122,
   124,
   143,
   146,
   160,
   162,
   166,
   168,
   180,
   182,
   193,
   197,
   201,
   205,
   211,
   215,
   219,
   223,
   233,
   235,
   243,
   245,
   253,
   255,
   263,
   265,
   281,
   283,
   297,
   299
  ]
 },
 "nbformat": 4,
 "nbformat_minor": 5
}